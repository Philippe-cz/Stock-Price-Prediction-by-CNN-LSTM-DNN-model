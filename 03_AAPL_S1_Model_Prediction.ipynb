{
 "cells": [
  {
   "cell_type": "markdown",
   "metadata": {},
   "source": [
    "<i>DISCLAIMER:<br>\n",
    "Bellow code is only for informative purpose, i renounce any responsibility regarding this code and bellow trained model causing loss of money during trading on real market.</i>"
   ]
  },
  {
   "cell_type": "markdown",
   "metadata": {},
   "source": [
    "# Stock price prediction : AAPL"
   ]
  },
  {
   "cell_type": "markdown",
   "metadata": {},
   "source": [
    "This page does following:\n",
    "\n",
    "- Libraries and trained model from previous step are loaded\n",
    "\n",
    "- Defined customized functions as well as loss function\n",
    "\n",
    "- Data are pulled, indicators are applied and prediction is made"
   ]
  },
  {
   "cell_type": "markdown",
   "metadata": {},
   "source": [
    "<b>Import libraries and customized loss function and define customized function</b>\n",
    "\n",
    "Bellow code defines customized function that are processing loaded data from stock market and makes prediction. Dataframe is normalized and reverted back via following formulas\n",
    "\n",
    "<i>Linear scaling formula: x ′ = ( x − x m i n ) / ( x m a x − x m i n )</i><br>\n",
    "<i>Reverse linear scaling: x = (x * (maxv-minv)) + minv</i>"
   ]
  },
  {
   "cell_type": "code",
   "execution_count": 1,
   "metadata": {},
   "outputs": [],
   "source": [
    "#Libraries\n",
    "import tensorflow as tf\n",
    "import yfinance as yf\n",
    "import talib\n",
    "import matplotlib.pyplot as plt\n",
    "import numpy as np\n",
    "import pandas as pd\n",
    "\n",
    "#Customized loss function\n",
    "def sign_penalty(y_true,y_pred):\n",
    "    penalty = 100.\n",
    "    loss = tf.where(tf.less(y_true*y_pred,0),\n",
    "                    penalty * tf.square(y_true-y_pred),\n",
    "                    tf.square(y_true - y_pred)\n",
    "                   )\n",
    "    \n",
    "    return(tf.reduce_mean(loss,axis=-1))\n",
    "\n",
    "tf.keras.losses.sign_penalty = sign_penalty\n",
    "\n",
    "#Customized functions\n",
    "def norm_df(pred1):\n",
    "    df_temp = pd.DataFrame()\n",
    "    try:\n",
    "        pred1 = pred1.drop('Date',axis=1)\n",
    "    except:\n",
    "        pass\n",
    "    pred_np = pred1.to_numpy()\n",
    "    maxv = np.max(pred_np)\n",
    "    minv = np.min(pred_np)\n",
    "    df_temp = (pred1.iloc[:,:]-minv)/(maxv-minv)\n",
    "    \n",
    "    return df_temp, maxv,minv\n",
    "def revert_df(df,maxv,minv):\n",
    "    df_temp = pd.DataFrame() \n",
    "    df_temp = (df.iloc[:,:]*(maxv-minv))+minv\n",
    "    \n",
    "    return df_temp\n",
    "def revert_prediction(value,maxv,minv):\n",
    "    \n",
    "    return (value * (maxv-minv))+minv\n",
    "def MakePred(series,model):\n",
    "    pr = series.to_numpy()\n",
    "    series2=np.array([[pr]])   \n",
    "    pred = tf.data.Dataset.from_tensor_slices(series2)\n",
    "    prediction = model.predict(pred)\n",
    "        \n",
    "    return prediction  \n",
    "def Predict(pred):\n",
    "    df_temp1, maxv, minv = norm_df(pred)\n",
    "    pr = MakePred(df_temp1,model)\n",
    "    prediction = revert_prediction(pr,maxv,minv)\n",
    "    prediction = np.squeeze(prediction)\n",
    "    #print(\"Prediction is: \",prediction)\n",
    "    return prediction\n"
   ]
  },
  {
   "cell_type": "markdown",
   "metadata": {},
   "source": [
    "<b>Load trained model</b>"
   ]
  },
  {
   "cell_type": "code",
   "execution_count": 2,
   "metadata": {},
   "outputs": [
    {
     "data": {
      "text/plain": [
       "<tensorflow.python.keras.engine.sequential.Sequential at 0x26720a8f310>"
      ]
     },
     "execution_count": 2,
     "metadata": {},
     "output_type": "execute_result"
    }
   ],
   "source": [
    "model = tf.keras.models.load_model('aapl_model_checkpoint.h5', custom_objects={'sign_penalty': sign_penalty} )\n",
    "model"
   ]
  },
  {
   "cell_type": "markdown",
   "metadata": {},
   "source": [
    "<b>Load data from stock market</b>\n",
    "\n",
    "Bellow code will load last 2 months of data via yahoo finance. Exponential moving averages are placed and formations are being selected. If condition is passed, we can run prediction, <b>if condition is not met, we should not trade today.</b>"
   ]
  },
  {
   "cell_type": "code",
   "execution_count": 4,
   "metadata": {},
   "outputs": [
    {
     "name": "stdout",
     "output_type": "stream",
     "text": [
      "condition NOT passed, do NOT trade\n"
     ]
    }
   ],
   "source": [
    "stock = yf.download('aapl', \n",
    "                      start='2021-10-27', \n",
    "                      end='2021-12-31', \n",
    "                      interval=\"1d\",\n",
    "                      progress=False,\n",
    ")\n",
    "#Set Indicators\n",
    "stock['EMA4'] = talib.EMA(stock['Close'], timeperiod=4)\n",
    "stock['EMA8'] = talib.EMA(stock['Close'], timeperiod=8)\n",
    "stock['EMA16'] = talib.EMA(stock['Close'], timeperiod=16)\n",
    "stock = stock.drop(labels=['Adj Close','Volume'],axis=1)\n",
    "\n",
    "\n",
    "#Get final dataframe\n",
    "trading_formation = stock.iloc[len(stock)-3:]\n",
    "trading_formation = trading_formation.reset_index()\n",
    "    \n",
    "#print(\"Data loaded in dataframe trading_formation\")\n",
    "\n",
    "#Check condition\n",
    "if ((trading_formation.iloc[2,1]>trading_formation.iloc[2-1,1])\\\n",
    "    and (trading_formation.iloc[2,1] > trading_formation.iloc[2,4])\\\n",
    "    and (trading_formation.iloc[2,4] > trading_formation.iloc[2,5])\\\n",
    "    and (trading_formation.iloc[2,5] > trading_formation.iloc[2,6])):     \n",
    "    print(\"Trading condition passed, you can make prediction\")\n",
    "\n",
    "\n",
    "else:\n",
    "    print(\"condition NOT passed, do NOT trade\")"
   ]
  },
  {
   "cell_type": "markdown",
   "metadata": {},
   "source": [
    "<b>Make Prediction</b>"
   ]
  },
  {
   "cell_type": "code",
   "execution_count": 5,
   "metadata": {},
   "outputs": [
    {
     "data": {
      "text/html": [
       "<div>\n",
       "<style scoped>\n",
       "    .dataframe tbody tr th:only-of-type {\n",
       "        vertical-align: middle;\n",
       "    }\n",
       "\n",
       "    .dataframe tbody tr th {\n",
       "        vertical-align: top;\n",
       "    }\n",
       "\n",
       "    .dataframe thead th {\n",
       "        text-align: right;\n",
       "    }\n",
       "</style>\n",
       "<table border=\"1\" class=\"dataframe\">\n",
       "  <thead>\n",
       "    <tr style=\"text-align: right;\">\n",
       "      <th></th>\n",
       "      <th>Date</th>\n",
       "      <th>Open</th>\n",
       "      <th>High</th>\n",
       "      <th>Low</th>\n",
       "      <th>Close</th>\n",
       "      <th>EMA4</th>\n",
       "      <th>EMA8</th>\n",
       "      <th>EMA16</th>\n",
       "    </tr>\n",
       "  </thead>\n",
       "  <tbody>\n",
       "    <tr>\n",
       "      <th>0</th>\n",
       "      <td>2021-12-28</td>\n",
       "      <td>180.160004</td>\n",
       "      <td>181.330002</td>\n",
       "      <td>178.529999</td>\n",
       "      <td>179.289993</td>\n",
       "      <td>177.892214</td>\n",
       "      <td>176.192975</td>\n",
       "      <td>173.308156</td>\n",
       "    </tr>\n",
       "    <tr>\n",
       "      <th>1</th>\n",
       "      <td>2021-12-29</td>\n",
       "      <td>179.330002</td>\n",
       "      <td>180.630005</td>\n",
       "      <td>178.139999</td>\n",
       "      <td>179.380005</td>\n",
       "      <td>178.487331</td>\n",
       "      <td>176.901204</td>\n",
       "      <td>174.022491</td>\n",
       "    </tr>\n",
       "    <tr>\n",
       "      <th>2</th>\n",
       "      <td>2021-12-30</td>\n",
       "      <td>179.470001</td>\n",
       "      <td>180.570007</td>\n",
       "      <td>178.089996</td>\n",
       "      <td>178.199997</td>\n",
       "      <td>178.372397</td>\n",
       "      <td>177.189824</td>\n",
       "      <td>174.513962</td>\n",
       "    </tr>\n",
       "  </tbody>\n",
       "</table>\n",
       "</div>"
      ],
      "text/plain": [
       "        Date        Open        High         Low       Close        EMA4  \\\n",
       "0 2021-12-28  180.160004  181.330002  178.529999  179.289993  177.892214   \n",
       "1 2021-12-29  179.330002  180.630005  178.139999  179.380005  178.487331   \n",
       "2 2021-12-30  179.470001  180.570007  178.089996  178.199997  178.372397   \n",
       "\n",
       "         EMA8       EMA16  \n",
       "0  176.192975  173.308156  \n",
       "1  176.901204  174.022491  \n",
       "2  177.189824  174.513962  "
      ]
     },
     "execution_count": 5,
     "metadata": {},
     "output_type": "execute_result"
    }
   ],
   "source": [
    "trading_formation"
   ]
  },
  {
   "cell_type": "code",
   "execution_count": 6,
   "metadata": {},
   "outputs": [
    {
     "name": "stdout",
     "output_type": "stream",
     "text": [
      "Raw prediction is:  181.11569\n",
      "Penalised Prediction is:  181.06669\n"
     ]
    }
   ],
   "source": [
    "penalisation = 0.049\n",
    "\n",
    "pred = Predict(trading_formation)\n",
    "print(\"Raw prediction is: \",pred)\n",
    "ppred = round(pred-penalisation,5)\n",
    "print(\"Penalised Prediction is: \",ppred)"
   ]
  },
  {
   "cell_type": "code",
   "execution_count": null,
   "metadata": {},
   "outputs": [],
   "source": []
  },
  {
   "cell_type": "code",
   "execution_count": null,
   "metadata": {},
   "outputs": [],
   "source": []
  }
 ],
 "metadata": {
  "kernelspec": {
   "display_name": "Python 3",
   "language": "python",
   "name": "python3"
  },
  "language_info": {
   "codemirror_mode": {
    "name": "ipython",
    "version": 3
   },
   "file_extension": ".py",
   "mimetype": "text/x-python",
   "name": "python",
   "nbconvert_exporter": "python",
   "pygments_lexer": "ipython3",
   "version": "3.8.3"
  }
 },
 "nbformat": 4,
 "nbformat_minor": 4
}
