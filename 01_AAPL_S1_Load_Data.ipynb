{
 "cells": [
  {
   "cell_type": "markdown",
   "metadata": {},
   "source": [
    "<i>DISCLAIMER:<br>\n",
    "Bellow code is only for informative purpose, i renounce any responsibility regarding this code and trained model causing loss of money during trading on real market.</i>"
   ]
  },
  {
   "cell_type": "markdown",
   "metadata": {},
   "source": [
    "# Stock price prediction : AAPL\n",
    "\n",
    "This page does following:\n",
    "\n",
    "- load libraries and load stock data as dataframe\n",
    "- display chart with close price\n",
    "- add indicators to loaded dataframe\n",
    "- filter out formations and get its windows\n",
    "- Export data to csv file\n",
    "\n",
    "<b>Trading strategy</b><br>\n",
    "Trading chart: Daily<br>\n",
    "Trade type: LONG<br>\n",
    "Stock: AAPL<br>\n",
    "Entry price: High price of our last formed candle in formation<br>\n",
    "Exit price: Model is trying to predict High price of newly formed candle after our formation was formed. if predicted price is not reached out, calculation of profit/loss is done on close price of trading candle, it means, we do trade only in a day, trade is closed by end of each session.\n",
    "\n",
    "We are trading AAPL stock, since it is stable company that has been in up-trend from its foundation.\n",
    "\n",
    "<b>Trading Data</b><br>\n",
    "We are loading daily data from yahoo finance from year 2000 until end of 2021.\n",
    "\n",
    "Bellow condition is trying to make sure we are trading in upper trend. Trades will be done only with long position\n",
    "\n",
    "<b>Traded formation</b><br>\n",
    "Condition 1: <i>Last candle high is higher than previous candle high</i><br>\n",
    "Condition 2: <i>Last candle <b>high</b> is higher than Exponential moving average 4</i><br>\n",
    "Condition 3: <i>EMA4 is higher than EMA8</i><br>\n",
    "Condition 4: <i>EMA8 is higher than EMA16</i><br>\n",
    "\n",
    "\n",
    "\n",
    "We are getting windows from stock dataset, each window has 4 rows (4 candles), 3 rows (formation) + 1 row (label). Our above condition is using only last two candles from formation, however model will be trained on 3 candles, please refer to image bellow.\n",
    "\n",
    "<b>Trading performance</b><br>\n",
    "On validation dataset (from 8.2018 - 12.2021, cca 3 years and 4 months) model achieved 31% return, also there must be pointed out, the model does not subtract trading fees, so the return 31% must be decreased by fees broker is charging per each trade."
   ]
  },
  {
   "cell_type": "markdown",
   "metadata": {},
   "source": [
    "<b>Trading formation sample</b>\n",
    "\n",
    "<img src=\"AAPL Formation.jpg\" width=550 height=500 align=\"left\">"
   ]
  },
  {
   "cell_type": "markdown",
   "metadata": {},
   "source": [
    "<b>Import libraries</b>"
   ]
  },
  {
   "cell_type": "code",
   "execution_count": 22,
   "metadata": {},
   "outputs": [],
   "source": [
    "import yfinance as yf\n",
    "import talib\n",
    "import matplotlib.pyplot as plt\n",
    "import numpy as np\n",
    "import pandas as pd"
   ]
  },
  {
   "cell_type": "markdown",
   "metadata": {},
   "source": [
    "<b>load data</b>"
   ]
  },
  {
   "cell_type": "code",
   "execution_count": 23,
   "metadata": {},
   "outputs": [
    {
     "data": {
      "text/plain": [
       "(5532, 6)"
      ]
     },
     "execution_count": 23,
     "metadata": {},
     "output_type": "execute_result"
    }
   ],
   "source": [
    "stock = yf.download('aapl', \n",
    "                      start='2000-01-01', \n",
    "                      end='2021-12-25', \n",
    "                      interval=\"1d\",\n",
    "                      progress=False,\n",
    ")\n",
    "stock.shape"
   ]
  },
  {
   "cell_type": "markdown",
   "metadata": {},
   "source": [
    "<b>Display chart</b>"
   ]
  },
  {
   "cell_type": "code",
   "execution_count": 24,
   "metadata": {},
   "outputs": [
    {
     "data": {
      "text/plain": [
       "<matplotlib.axes._subplots.AxesSubplot at 0x24b7d31a460>"
      ]
     },
     "execution_count": 24,
     "metadata": {},
     "output_type": "execute_result"
    },
    {
     "data": {
      "image/png": "[encoded data removed]",
      "text/plain": [
       "<Figure size 864x360 with 1 Axes>"
      ]
     },
     "metadata": {
      "needs_background": "light"
     },
     "output_type": "display_data"
    }
   ],
   "source": [
    "stock['Adj Close'].plot(legend=True,figsize=(12,5))"
   ]
  },
  {
   "cell_type": "markdown",
   "metadata": {},
   "source": [
    "<b>Add indicators</b>\n",
    "\n",
    "We are adding exponential moving average for a model to get additional data for training"
   ]
  },
  {
   "cell_type": "code",
   "execution_count": 25,
   "metadata": {},
   "outputs": [],
   "source": [
    "stock['EMA4'] = talib.EMA(stock['Close'], timeperiod=4)\n",
    "stock['EMA8'] = talib.EMA(stock['Close'], timeperiod=8)\n",
    "stock['EMA16'] = talib.EMA(stock['Close'], timeperiod=16)"
   ]
  },
  {
   "cell_type": "markdown",
   "metadata": {},
   "source": [
    "Remove not needed colls"
   ]
  },
  {
   "cell_type": "code",
   "execution_count": 26,
   "metadata": {},
   "outputs": [
    {
     "data": {
      "text/html": [
       "<div>\n",
       "<style scoped>\n",
       "    .dataframe tbody tr th:only-of-type {\n",
       "        vertical-align: middle;\n",
       "    }\n",
       "\n",
       "    .dataframe tbody tr th {\n",
       "        vertical-align: top;\n",
       "    }\n",
       "\n",
       "    .dataframe thead th {\n",
       "        text-align: right;\n",
       "    }\n",
       "</style>\n",
       "<table border=\"1\" class=\"dataframe\">\n",
       "  <thead>\n",
       "    <tr style=\"text-align: right;\">\n",
       "      <th></th>\n",
       "      <th>Open</th>\n",
       "      <th>High</th>\n",
       "      <th>Low</th>\n",
       "      <th>Close</th>\n",
       "      <th>EMA4</th>\n",
       "      <th>EMA8</th>\n",
       "      <th>EMA16</th>\n",
       "    </tr>\n",
       "    <tr>\n",
       "      <th>Date</th>\n",
       "      <th></th>\n",
       "      <th></th>\n",
       "      <th></th>\n",
       "      <th></th>\n",
       "      <th></th>\n",
       "      <th></th>\n",
       "      <th></th>\n",
       "    </tr>\n",
       "  </thead>\n",
       "  <tbody>\n",
       "    <tr>\n",
       "      <th>1999-12-31</th>\n",
       "      <td>0.901228</td>\n",
       "      <td>0.918527</td>\n",
       "      <td>0.888393</td>\n",
       "      <td>0.917969</td>\n",
       "      <td>NaN</td>\n",
       "      <td>NaN</td>\n",
       "      <td>NaN</td>\n",
       "    </tr>\n",
       "    <tr>\n",
       "      <th>2000-01-03</th>\n",
       "      <td>0.936384</td>\n",
       "      <td>1.004464</td>\n",
       "      <td>0.907924</td>\n",
       "      <td>0.999442</td>\n",
       "      <td>NaN</td>\n",
       "      <td>NaN</td>\n",
       "      <td>NaN</td>\n",
       "    </tr>\n",
       "    <tr>\n",
       "      <th>2000-01-04</th>\n",
       "      <td>0.966518</td>\n",
       "      <td>0.987723</td>\n",
       "      <td>0.903460</td>\n",
       "      <td>0.915179</td>\n",
       "      <td>NaN</td>\n",
       "      <td>NaN</td>\n",
       "      <td>NaN</td>\n",
       "    </tr>\n",
       "    <tr>\n",
       "      <th>2000-01-05</th>\n",
       "      <td>0.926339</td>\n",
       "      <td>0.987165</td>\n",
       "      <td>0.919643</td>\n",
       "      <td>0.928571</td>\n",
       "      <td>0.940290</td>\n",
       "      <td>NaN</td>\n",
       "      <td>NaN</td>\n",
       "    </tr>\n",
       "    <tr>\n",
       "      <th>2000-01-06</th>\n",
       "      <td>0.947545</td>\n",
       "      <td>0.955357</td>\n",
       "      <td>0.848214</td>\n",
       "      <td>0.848214</td>\n",
       "      <td>0.903460</td>\n",
       "      <td>NaN</td>\n",
       "      <td>NaN</td>\n",
       "    </tr>\n",
       "    <tr>\n",
       "      <th>2000-01-07</th>\n",
       "      <td>0.861607</td>\n",
       "      <td>0.901786</td>\n",
       "      <td>0.852679</td>\n",
       "      <td>0.888393</td>\n",
       "      <td>0.897433</td>\n",
       "      <td>NaN</td>\n",
       "      <td>NaN</td>\n",
       "    </tr>\n",
       "  </tbody>\n",
       "</table>\n",
       "</div>"
      ],
      "text/plain": [
       "                Open      High       Low     Close      EMA4  EMA8  EMA16\n",
       "Date                                                                     \n",
       "1999-12-31  0.901228  0.918527  0.888393  0.917969       NaN   NaN    NaN\n",
       "2000-01-03  0.936384  1.004464  0.907924  0.999442       NaN   NaN    NaN\n",
       "2000-01-04  0.966518  0.987723  0.903460  0.915179       NaN   NaN    NaN\n",
       "2000-01-05  0.926339  0.987165  0.919643  0.928571  0.940290   NaN    NaN\n",
       "2000-01-06  0.947545  0.955357  0.848214  0.848214  0.903460   NaN    NaN\n",
       "2000-01-07  0.861607  0.901786  0.852679  0.888393  0.897433   NaN    NaN"
      ]
     },
     "execution_count": 26,
     "metadata": {},
     "output_type": "execute_result"
    }
   ],
   "source": [
    "try:\n",
    "    stock = stock.drop(labels=['Adj Close','Volume'],axis=1)\n",
    "except:\n",
    "    pass\n",
    "stock.head(6)"
   ]
  },
  {
   "cell_type": "markdown",
   "metadata": {},
   "source": [
    "Bellow code will select only windows with 4 rows each, that represents formation that is intended to trade. If conditions, representing the formation are True, window is appended to new dataframe train_df. That df is exported as csv file."
   ]
  },
  {
   "cell_type": "code",
   "execution_count": null,
   "metadata": {},
   "outputs": [],
   "source": []
  },
  {
   "cell_type": "code",
   "execution_count": 31,
   "metadata": {},
   "outputs": [
    {
     "name": "stderr",
     "output_type": "stream",
     "text": [
      "<ipython-input-31-5682423d2dd7>:29: SettingWithCopyWarning: \n",
      "A value is trying to be set on a copy of a slice from a DataFrame.\n",
      "Try using .loc[row_indexer,col_indexer] = value instead\n",
      "\n",
      "See the caveats in the documentation: https://pandas.pydata.org/pandas-docs/stable/user_guide/indexing.html#returning-a-view-versus-a-copy\n",
      "  temp_df['trades'] = trades\n"
     ]
    }
   ],
   "source": [
    "temp_df = pd.DataFrame()\n",
    "final_df = pd.DataFrame()\n",
    "\n",
    "trades = 0\n",
    "\n",
    "for row in range(len(stock)):\n",
    "\n",
    "    if row > 2:\n",
    "        counter = 0\n",
    "        \n",
    "        #Trading Condition\n",
    "        if (\n",
    "            (stock.iloc[row-1,1]>stock.iloc[row-2,1])\\\n",
    "        and (stock.iloc[row-1,1] > stock.iloc[row-1,4])\\\n",
    "        and (stock.iloc[row-1,4] > stock.iloc[row-1,5])\\\n",
    "        and (stock.iloc[row-1,5] > stock.iloc[row-1,6])\\\n",
    "        and (stock.iloc[row,1] > stock.iloc[row-1,1])):      \n",
    "            \n",
    "            trades += 1\n",
    "            #Check condition           \n",
    "#             print(\"last high: \",stock.iloc[row-1,1])\n",
    "#             print(\"2nd high: \",stock.iloc[row-2,1])\n",
    "#             print(\"EMA4: \",stock.iloc[row-1,4])\n",
    "#             print(\"EMA8: \",stock.iloc[row-1,5])\n",
    "#             print(\"EMA16: \",stock.iloc[row-1,6])\n",
    "            \n",
    "            temp_df = stock.iloc[row-3:row+1,:]\n",
    "            \n",
    "            temp_df['trades'] = trades\n",
    "\n",
    "            final_df = pd.concat([final_df,temp_df],axis=0)\n",
    "            "
   ]
  },
  {
   "cell_type": "code",
   "execution_count": 32,
   "metadata": {},
   "outputs": [
    {
     "name": "stdout",
     "output_type": "stream",
     "text": [
      "(4344, 8)\n"
     ]
    },
    {
     "data": {
      "text/html": [
       "<div>\n",
       "<style scoped>\n",
       "    .dataframe tbody tr th:only-of-type {\n",
       "        vertical-align: middle;\n",
       "    }\n",
       "\n",
       "    .dataframe tbody tr th {\n",
       "        vertical-align: top;\n",
       "    }\n",
       "\n",
       "    .dataframe thead th {\n",
       "        text-align: right;\n",
       "    }\n",
       "</style>\n",
       "<table border=\"1\" class=\"dataframe\">\n",
       "  <thead>\n",
       "    <tr style=\"text-align: right;\">\n",
       "      <th></th>\n",
       "      <th>Open</th>\n",
       "      <th>High</th>\n",
       "      <th>Low</th>\n",
       "      <th>Close</th>\n",
       "      <th>EMA4</th>\n",
       "      <th>EMA8</th>\n",
       "      <th>EMA16</th>\n",
       "      <th>trades</th>\n",
       "    </tr>\n",
       "    <tr>\n",
       "      <th>Date</th>\n",
       "      <th></th>\n",
       "      <th></th>\n",
       "      <th></th>\n",
       "      <th></th>\n",
       "      <th></th>\n",
       "      <th></th>\n",
       "      <th></th>\n",
       "      <th></th>\n",
       "    </tr>\n",
       "  </thead>\n",
       "  <tbody>\n",
       "    <tr>\n",
       "      <th>2000-01-21</th>\n",
       "      <td>1.020089</td>\n",
       "      <td>1.020089</td>\n",
       "      <td>0.983817</td>\n",
       "      <td>0.993862</td>\n",
       "      <td>0.970014</td>\n",
       "      <td>0.941744</td>\n",
       "      <td>NaN</td>\n",
       "      <td>1</td>\n",
       "    </tr>\n",
       "    <tr>\n",
       "      <th>2000-01-24</th>\n",
       "      <td>0.968192</td>\n",
       "      <td>1.006696</td>\n",
       "      <td>0.938616</td>\n",
       "      <td>0.948661</td>\n",
       "      <td>0.961473</td>\n",
       "      <td>0.943281</td>\n",
       "      <td>0.910819</td>\n",
       "      <td>1</td>\n",
       "    </tr>\n",
       "    <tr>\n",
       "      <th>2000-01-25</th>\n",
       "      <td>0.937500</td>\n",
       "      <td>1.010045</td>\n",
       "      <td>0.914063</td>\n",
       "      <td>1.002232</td>\n",
       "      <td>0.977776</td>\n",
       "      <td>0.956381</td>\n",
       "      <td>0.921573</td>\n",
       "      <td>1</td>\n",
       "    </tr>\n",
       "  </tbody>\n",
       "</table>\n",
       "</div>"
      ],
      "text/plain": [
       "                Open      High       Low     Close      EMA4      EMA8  \\\n",
       "Date                                                                     \n",
       "2000-01-21  1.020089  1.020089  0.983817  0.993862  0.970014  0.941744   \n",
       "2000-01-24  0.968192  1.006696  0.938616  0.948661  0.961473  0.943281   \n",
       "2000-01-25  0.937500  1.010045  0.914063  1.002232  0.977776  0.956381   \n",
       "\n",
       "               EMA16  trades  \n",
       "Date                          \n",
       "2000-01-21       NaN       1  \n",
       "2000-01-24  0.910819       1  \n",
       "2000-01-25  0.921573       1  "
      ]
     },
     "execution_count": 32,
     "metadata": {},
     "output_type": "execute_result"
    }
   ],
   "source": [
    "print(final_df.shape)\n",
    "final_df.head(3)"
   ]
  },
  {
   "cell_type": "markdown",
   "metadata": {},
   "source": [
    "<b>Save final data in csv format</b>\n",
    "\n",
    "This csv file is used by following list to trade our model"
   ]
  },
  {
   "cell_type": "code",
   "execution_count": 33,
   "metadata": {},
   "outputs": [
    {
     "name": "stdout",
     "output_type": "stream",
     "text": [
      "final_df shape:  (4344, 8)\n"
     ]
    }
   ],
   "source": [
    "print(\"final_df shape: \",final_df.shape)\n",
    "final_df.to_csv('AAPL_raw.csv')"
   ]
  },
  {
   "cell_type": "markdown",
   "metadata": {},
   "source": [
    "<b>Save raw stock data in csv format</b>\n",
    "\n",
    "This is done only for validation purpose of final trades"
   ]
  },
  {
   "cell_type": "code",
   "execution_count": 34,
   "metadata": {},
   "outputs": [
    {
     "name": "stdout",
     "output_type": "stream",
     "text": [
      "final_df shape:  (5532, 7)\n"
     ]
    }
   ],
   "source": [
    "print(\"final_df shape: \",stock.shape)\n",
    "stock.to_csv('AAPL_raw_initial_df.csv')"
   ]
  },
  {
   "cell_type": "code",
   "execution_count": null,
   "metadata": {},
   "outputs": [],
   "source": []
  },
  {
   "cell_type": "code",
   "execution_count": null,
   "metadata": {},
   "outputs": [],
   "source": []
  }
 ],
 "metadata": {
  "kernelspec": {
   "display_name": "Python 3",
   "language": "python",
   "name": "python3"
  },
  "language_info": {
   "codemirror_mode": {
    "name": "ipython",
    "version": 3
   },
   "file_extension": ".py",
   "mimetype": "text/x-python",
   "name": "python",
   "nbconvert_exporter": "python",
   "pygments_lexer": "ipython3",
   "version": "3.8.3"
  }
 },
 "nbformat": 4,
 "nbformat_minor": 4
}
